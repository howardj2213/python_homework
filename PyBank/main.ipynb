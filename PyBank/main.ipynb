{
 "metadata": {
  "language_info": {
   "codemirror_mode": {
    "name": "ipython",
    "version": 3
   },
   "file_extension": ".py",
   "mimetype": "text/x-python",
   "name": "python",
   "nbconvert_exporter": "python",
   "pygments_lexer": "ipython3",
   "version": "3.8.3-final"
  },
  "orig_nbformat": 2,
  "kernelspec": {
   "name": "Python 3.8.3 64-bit ('base': conda)",
   "display_name": "Python 3.8.3 64-bit ('base': conda)",
   "metadata": {
    "interpreter": {
     "hash": "9032458e503ab28519db53568226f597adad35e1b11ccc360aee2243f83ff687"
    }
   }
  }
 },
 "nbformat": 4,
 "nbformat_minor": 2,
 "cells": [
  {
   "cell_type": "code",
   "execution_count": 197,
   "metadata": {},
   "outputs": [],
   "source": [
    "from pathlib import Path\n",
    "\n",
    "import csv\n",
    "import sys\n",
    "\n",
    "filepath = Path(\"../../../rice-hou-fin-pt-09-2020-u-c/hw/02-Python/Instructions/PyBank/Resources/budget_data.csv\")"
   ]
  },
  {
   "cell_type": "code",
   "execution_count": 201,
   "metadata": {
    "tags": []
   },
   "outputs": [],
   "source": [
    "# initialize variables\n",
    "\n",
    "total_months = 0\n",
    "net_profit = 0\n",
    "monthly_change = 0\n",
    "avg_monthly_change = 0\n",
    "greatest_increase = 0\n",
    "greatest_decrease = 0\n",
    "\n",
    "\n",
    "\n",
    "\n",
    "\n",
    "profits_losses = []\n",
    "profits_losses2 = []\n",
    "\n",
    "date = []\n",
    "date2 = []\n",
    "Title = \"Financial Analysis\"\n",
    "\n",
    "\n",
    "with open(filepath, \"r\") as csvfile:\n",
    "    csvreader = csv.reader(csvfile, delimiter=\",\")\n",
    "    header = next(csvreader)\n",
    "\n",
    "    for row in csvreader:\n",
    "        #converted row1 string to int and declared new variable. use that var to create new list of intergers profits_losses \n",
    "       date.append(row[0])\n",
    "       int_row1 = int(row[1])\n",
    "       profits_losses.append(int_row1)\n",
    "       \n",
    "\n",
    "        # find net profit\n",
    "       net_profit = sum(profits_losses)\n",
    "       total_months = len(profits_losses)\n",
    "    \n",
    "    for pnl in range(1, len(profits_losses)):\n",
    "\n",
    "        profits_losses2.append(profits_losses[pnl] - profits_losses[pnl-1]) \n",
    "    \n",
    "    avg_monthly_change = sum(profits_losses2) / len(profits_losses2)\n",
    "    greatest_increase = max(profits_losses2)\n",
    "    greatest_decrease = min(profits_losses2)\n",
    "\n",
    "    for months in date[1:]:\n",
    "        date2.append(months)\n",
    "   \n",
    "   \n",
    "    greatest_inc_mon = str(date2[profits_losses2.index(max(profits_losses2))])\n",
    "    greatest_dec_mon = str(date2[profits_losses2.index(min(profits_losses2))])\n",
    "\n",
    "    \n",
    "    print(Title)   \n",
    "    print(f\"Total Months: {total_months}\")\n",
    "    print(f\"Total: ${net_profit}\")\n",
    "    print(f\"Average Monthly Change: ${round((avg_monthly_change), 2)}\")\n",
    "    print(f\"Greatest Increase In Profits: {greatest_inc_mon} (${greatest_increase})\")\n",
    "    print(f\"Greatest Decrease In Profits: {greatest_dec_mon} (${greatest_decrease})\")\n",
    "\n",
    "    sys.stdout=open ('PyBank_submit.txt', 'w')\n",
    "    print(Title)   \n",
    "    print(f\"Total Months: {total_months}\")\n",
    "    print(f\"Total: ${net_profit}\")\n",
    "    print(f\"Average Monthly Change: ${round((avg_monthly_change), 2)}\")\n",
    "    print(f\"Greatest Increase In Profits: {greatest_inc_mon} (${greatest_increase})\")\n",
    "    print(f\"Greatest Decrease In Profits: {greatest_dec_mon} (${greatest_decrease})\")\n",
    "    sys.stdout.close()\n",
    "    \n",
    "    \n"
   ]
  }
 ]
}